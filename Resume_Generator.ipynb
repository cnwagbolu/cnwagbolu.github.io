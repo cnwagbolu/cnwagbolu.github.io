{
  "nbformat": 4,
  "nbformat_minor": 0,
  "metadata": {
    "colab": {
      "provenance": [],
      "authorship_tag": "ABX9TyNh0mPcC3wBgDj7yOVtqyIg",
      "include_colab_link": true
    },
    "kernelspec": {
      "name": "python3",
      "display_name": "Python 3"
    },
    "language_info": {
      "name": "python"
    }
  },
  "cells": [
    {
      "cell_type": "markdown",
      "metadata": {
        "id": "view-in-github",
        "colab_type": "text"
      },
      "source": [
        "<a href=\"https://colab.research.google.com/github/cnwagbolu/cnwagbolu.github.io/blob/main/Resume_Generator.ipynb\" target=\"_parent\"><img src=\"https://colab.research.google.com/assets/colab-badge.svg\" alt=\"Open In Colab\"/></a>"
      ]
    },
    {
      "cell_type": "code",
      "execution_count": null,
      "metadata": {
        "id": "yzS-NjilKnjp"
      },
      "outputs": [],
      "source": [
        "!pip install -q gradio"
      ]
    },
    {
      "cell_type": "code",
      "source": [
        "# Mount to your own google drive to get the dataset (you should have the dataset there first)\n",
        "from google.colab import drive\n",
        "drive.mount('/content/gdrive')"
      ],
      "metadata": {
        "colab": {
          "base_uri": "https://localhost:8080/"
        },
        "id": "Ne0iH5fLKwJL",
        "outputId": "299e3555-6002-4277-b4e1-76a5e26b90e7"
      },
      "execution_count": null,
      "outputs": [
        {
          "output_type": "stream",
          "name": "stdout",
          "text": [
            "Drive already mounted at /content/gdrive; to attempt to forcibly remount, call drive.mount(\"/content/gdrive\", force_remount=True).\n"
          ]
        }
      ]
    },
    {
      "cell_type": "code",
      "source": [
        "import gradio as gr\n",
        "import numpy as np\n",
        "\n",
        "myPath = '/content/gdrive/MyDrive/Colab Notebooks/'\n",
        "\n",
        "title = \"Professional Resume Creator\"\n",
        "description = \"Welcome! Please enter your data below to create your resume.\"\n",
        "\n",
        "template_input = gr.inputs.Dropdown([\"template1\", \"template2\", \"template3\"], label=\"Select a template\")\n",
        "\n",
        "# Create Web function -- Checks integrity of textboxes\n",
        "def createWeb(template, fname, lname, email, edu, workex, abtme, skills):\n",
        "  while not (template and fname and lname and email and edu and workex and abtme and skills): # Loops until all fields are filled -- otherwise returns error\n",
        "    return(\"Error: Ensure all fields are filled.\")\n",
        "    \n",
        "  dir = myPath + template + \".html\" # Creates variable to store file directory\n",
        "\n",
        "  filen = read(dir, fname, lname, email, edu, workex, abtme, skills) # Reads the selected template file\n",
        "  resumeA = write(filen) # Writes the new resume in\n",
        "  return(\"Your resume has been generated.\")\n",
        "\n",
        "def read(dir, fname, lname, email, edu, workex, abtme, skills):\n",
        "  with open(dir, \"r\") as f: # Opens file in directory -- using template selected\n",
        "    fr = f.read() # Reads the file\n",
        "#    print(\"File has been read.\") -- used to check the file was being read\n",
        "    skills = '<br>'.join(skills) \n",
        "    workex = workex.replace(\"\\n\",\"<br>\")\n",
        "    edu = edu.replace(\"\\n\",\"<br>\")\n",
        "    fr = fr.replace('++myfirstname++', fname).replace('++mylastname++', lname).replace('++myemail++', email).replace('++myeducation++', edu).replace('++myworkexperience++', workex).replace('++myparagraph++', abtme).replace('++myskills++', skills)\n",
        "    return fr\n",
        "\n",
        "def write(filen):\n",
        "  with open(myPath + \"Resume.html\", \"w\") as w: # Opens file in directory -- if one doesn't exist it will be created\n",
        "    w.write(filen) # Writes the appended resume template with details\n",
        "#  print(\"File has been altered.\") -- used to check the file was being altered \n",
        "\n",
        "# Creates the interface\n",
        "demo = gr.Interface(fn=createWeb, inputs=[template_input, \"text\", \"text\", \"text\", gr.Textbox(lines=5), gr.Textbox(lines=5), gr.Textbox(lines=5), gr.Dropdown([\"Microsoft Office\", \"Python\", \"Java\", \"HTML\"], multiselect=True)], outputs=\"text\", allow_flagging=\"never\", title=title, description=description)\n",
        "demo.launch(debug=True, share=True)"
      ],
      "metadata": {
        "colab": {
          "base_uri": "https://localhost:8080/",
          "height": 695
        },
        "id": "yy7Ye7ezLGwq",
        "outputId": "ce8e4444-2ebc-4c56-ba13-a6a5c997d9e8"
      },
      "execution_count": null,
      "outputs": [
        {
          "output_type": "stream",
          "name": "stderr",
          "text": [
            "/usr/local/lib/python3.10/dist-packages/gradio/inputs.py:219: UserWarning: Usage of gradio.inputs is deprecated, and will not be supported in the future, please import your component from gradio.components\n",
            "  warnings.warn(\n",
            "/usr/local/lib/python3.10/dist-packages/gradio/deprecation.py:40: UserWarning: `optional` parameter is deprecated, and it has no effect\n",
            "  warnings.warn(value)\n"
          ]
        },
        {
          "output_type": "stream",
          "name": "stdout",
          "text": [
            "Colab notebook detected. This cell will run indefinitely so that you can see errors and logs. To turn off, set debug=False in launch().\n",
            "Running on public URL: https://4c479a01fd25ca5ece.gradio.live\n",
            "\n",
            "This share link expires in 72 hours. For free permanent hosting and GPU upgrades (NEW!), check out Spaces: https://huggingface.co/spaces\n"
          ]
        },
        {
          "output_type": "display_data",
          "data": {
            "text/plain": [
              "<IPython.core.display.HTML object>"
            ],
            "text/html": [
              "<div><iframe src=\"https://4c479a01fd25ca5ece.gradio.live\" width=\"100%\" height=\"500\" allow=\"autoplay; camera; microphone; clipboard-read; clipboard-write;\" frameborder=\"0\" allowfullscreen></iframe></div>"
            ]
          },
          "metadata": {}
        },
        {
          "output_type": "stream",
          "name": "stdout",
          "text": [
            "Keyboard interruption in main thread... closing server.\n",
            "Killing tunnel 127.0.0.1:7860 <> https://4c479a01fd25ca5ece.gradio.live\n"
          ]
        },
        {
          "output_type": "execute_result",
          "data": {
            "text/plain": []
          },
          "metadata": {},
          "execution_count": 15
        }
      ]
    }
  ]
}